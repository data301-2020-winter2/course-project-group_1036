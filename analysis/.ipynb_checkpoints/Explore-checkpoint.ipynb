{
 "cells": [
  {
   "cell_type": "markdown",
   "id": "imported-assist",
   "metadata": {},
   "source": [
    "# Exploratory Data Analysis\n",
    "\n",
    "Done on the the Art_and_History and Recreation subsets of the google reviews dataset. Find EDA for Food_and_Beverage and Ammenities subsets in ../Emma1 \n",
    "\n",
    "First script and command chain cleaning functions for the Art_and_History and Recreation subsets of the google reviews dataset are loaded."
   ]
  },
  {
   "cell_type": "code",
   "execution_count": 26,
   "id": "vietnamese-composition",
   "metadata": {},
   "outputs": [],
   "source": [
    "# Import python modules\n",
    "\n",
    "import pandas as pd\n",
    "import numpy as np\n",
    "import seaborn as sns\n",
    "from matplotlib import pyplot as plt\n",
    "import pandas_profiling as pdp\n",
    "\n",
    "# Load cleaned Recreation and Art_and_History data subsets as dataframes from the google review data set using functions from MS2_CleanRawData module\n",
    "\n",
    "Recreation, Outdoors = load_clean_Recreation(\"../data/raw/google_review_ratings.csv\")\n",
    "Art = load_clean_Art_and_History(\"../data/raw/google_review_ratings.csv\")"
   ]
  },
  {
   "cell_type": "markdown",
   "id": "ongoing-characteristic",
   "metadata": {},
   "source": [
    "## Look at DataFrames"
   ]
  },
  {
   "cell_type": "code",
   "execution_count": 11,
   "id": "leading-arbitration",
   "metadata": {},
   "outputs": [
    {
     "name": "stdout",
     "output_type": "stream",
     "text": [
      "     Google User ID  Resorts  Beaches  Parks  Zoos  Dance Clubs  \\\n",
      "68          User 69     0.78     0.82   0.85  2.92         1.35   \n",
      "69          User 70     0.82     0.83   5.00  2.91         1.33   \n",
      "70          User 71     0.83     0.84   0.86  2.91         1.32   \n",
      "71          User 72     0.84     0.85   0.88  2.91         1.30   \n",
      "72          User 73     0.86     0.87   0.90  2.90         1.29   \n",
      "...             ...      ...      ...    ...   ...          ...   \n",
      "5451      User 5452     5.00     4.00   2.79  1.09         0.66   \n",
      "5452      User 5453     5.00     4.02   2.79  1.07         0.65   \n",
      "5453      User 5454     5.00     4.03   2.80  1.05         0.65   \n",
      "5454      User 5455     4.05     4.05   2.81  1.03         0.64   \n",
      "5455      User 5456     4.07     5.00   2.82  1.02         0.64   \n",
      "\n",
      "      Swimming Pools  Beauty & Spas  View Points  Gardens  \n",
      "68              0.55           0.50         0.73     0.73  \n",
      "69              1.36           0.50         0.75     0.74  \n",
      "70              1.34           0.51         0.76     0.77  \n",
      "71              0.58           0.51         0.78     0.80  \n",
      "72              0.57           0.52         5.00     0.88  \n",
      "...              ...            ...          ...      ...  \n",
      "5451            0.65           5.00         5.00     1.56  \n",
      "5452            0.64           1.62         5.00     1.09  \n",
      "5453            0.63           5.00         5.00     1.11  \n",
      "5454            0.63           5.00         5.00     1.12  \n",
      "5455            0.62           5.00         5.00     1.17  \n",
      "\n",
      "[4103 rows x 10 columns]\n"
     ]
    }
   ],
   "source": [
    "print(Recreation)\n",
    "\n",
    " #Includes recreational activities in both indoor and outdoor catagories"
   ]
  },
  {
   "cell_type": "code",
   "execution_count": 12,
   "id": "moved-behavior",
   "metadata": {},
   "outputs": [
    {
     "name": "stdout",
     "output_type": "stream",
     "text": [
      "     Google User ID  Beaches  Parks  View Points  Gardens\n",
      "68          User 69     0.82   0.85         0.73     0.73\n",
      "69          User 70     0.83   5.00         0.75     0.74\n",
      "70          User 71     0.84   0.86         0.76     0.77\n",
      "71          User 72     0.85   0.88         0.78     0.80\n",
      "72          User 73     0.87   0.90         5.00     0.88\n",
      "...             ...      ...    ...          ...      ...\n",
      "5451      User 5452     4.00   2.79         5.00     1.56\n",
      "5452      User 5453     4.02   2.79         5.00     1.09\n",
      "5453      User 5454     4.03   2.80         5.00     1.11\n",
      "5454      User 5455     4.05   2.81         5.00     1.12\n",
      "5455      User 5456     5.00   2.82         5.00     1.17\n",
      "\n",
      "[4103 rows x 5 columns]\n"
     ]
    }
   ],
   "source": [
    "print(Outdoors)\n",
    " ## Outdoor recreation only. "
   ]
  },
  {
   "cell_type": "code",
   "execution_count": 24,
   "id": "spread-pursuit",
   "metadata": {},
   "outputs": [
    {
     "name": "stdout",
     "output_type": "stream",
     "text": [
      "(     Google User ID  Resorts  Beaches  Parks  Zoos  Dance Clubs  \\\n",
      "68          User 69     0.78     0.82   0.85  2.92         1.35   \n",
      "69          User 70     0.82     0.83   5.00  2.91         1.33   \n",
      "70          User 71     0.83     0.84   0.86  2.91         1.32   \n",
      "71          User 72     0.84     0.85   0.88  2.91         1.30   \n",
      "72          User 73     0.86     0.87   0.90  2.90         1.29   \n",
      "...             ...      ...      ...    ...   ...          ...   \n",
      "5451      User 5452     5.00     4.00   2.79  1.09         0.66   \n",
      "5452      User 5453     5.00     4.02   2.79  1.07         0.65   \n",
      "5453      User 5454     5.00     4.03   2.80  1.05         0.65   \n",
      "5454      User 5455     4.05     4.05   2.81  1.03         0.64   \n",
      "5455      User 5456     4.07     5.00   2.82  1.02         0.64   \n",
      "\n",
      "      Swimming Pools  Beauty & Spas  View Points  Gardens  \n",
      "68              0.55           0.50         0.73     0.73  \n",
      "69              1.36           0.50         0.75     0.74  \n",
      "70              1.34           0.51         0.76     0.77  \n",
      "71              0.58           0.51         0.78     0.80  \n",
      "72              0.57           0.52         5.00     0.88  \n",
      "...              ...            ...          ...      ...  \n",
      "5451            0.65           5.00         5.00     1.56  \n",
      "5452            0.64           1.62         5.00     1.09  \n",
      "5453            0.63           5.00         5.00     1.11  \n",
      "5454            0.63           5.00         5.00     1.12  \n",
      "5455            0.62           5.00         5.00     1.17  \n",
      "\n",
      "[4103 rows x 10 columns],      Google User ID  Beaches  Parks  View Points  Gardens\n",
      "68          User 69     0.82   0.85         0.73     0.73\n",
      "69          User 70     0.83   5.00         0.75     0.74\n",
      "70          User 71     0.84   0.86         0.76     0.77\n",
      "71          User 72     0.85   0.88         0.78     0.80\n",
      "72          User 73     0.87   0.90         5.00     0.88\n",
      "...             ...      ...    ...          ...      ...\n",
      "5451      User 5452     4.00   2.79         5.00     1.56\n",
      "5452      User 5453     4.02   2.79         5.00     1.09\n",
      "5453      User 5454     4.03   2.80         5.00     1.11\n",
      "5454      User 5455     4.05   2.81         5.00     1.12\n",
      "5455      User 5456     5.00   2.82         5.00     1.17\n",
      "\n",
      "[4103 rows x 5 columns])\n"
     ]
    }
   ],
   "source": [
    "print(Art)"
   ]
  },
  {
   "cell_type": "markdown",
   "id": "aerial-timothy",
   "metadata": {},
   "source": [
    "## Art and History EDA"
   ]
  },
  {
   "cell_type": "code",
   "execution_count": 25,
   "id": "grateful-monitor",
   "metadata": {},
   "outputs": [
    {
     "ename": "AttributeError",
     "evalue": "'tuple' object has no attribute 'describe'",
     "output_type": "error",
     "traceback": [
      "\u001b[0;31m---------------------------------------------------------------------------\u001b[0m",
      "\u001b[0;31mAttributeError\u001b[0m                            Traceback (most recent call last)",
      "\u001b[0;32m<ipython-input-25-818f18318e92>\u001b[0m in \u001b[0;36m<module>\u001b[0;34m\u001b[0m\n\u001b[1;32m      1\u001b[0m \u001b[0;31m# Start with .describe for rudementary overview.\u001b[0m\u001b[0;34m\u001b[0m\u001b[0;34m\u001b[0m\u001b[0;34m\u001b[0m\u001b[0m\n\u001b[0;32m----> 2\u001b[0;31m \u001b[0mA\u001b[0m\u001b[0;34m=\u001b[0m \u001b[0mArt\u001b[0m\u001b[0;34m.\u001b[0m\u001b[0mdescribe\u001b[0m\u001b[0;34m(\u001b[0m\u001b[0mpercentiles\u001b[0m\u001b[0;34m=\u001b[0m\u001b[0;32mNone\u001b[0m\u001b[0;34m,\u001b[0m \u001b[0minclude\u001b[0m\u001b[0;34m=\u001b[0m \u001b[0;34m'all'\u001b[0m\u001b[0;34m,\u001b[0m \u001b[0mexclude\u001b[0m\u001b[0;34m=\u001b[0m\u001b[0;32mNone\u001b[0m\u001b[0;34m)\u001b[0m\u001b[0;34m.\u001b[0m\u001b[0mT\u001b[0m\u001b[0;34m\u001b[0m\u001b[0;34m\u001b[0m\u001b[0m\n\u001b[0m",
      "\u001b[0;31mAttributeError\u001b[0m: 'tuple' object has no attribute 'describe'"
     ]
    }
   ],
   "source": [
    "# Start with .describe for rudementary overview.\n",
    "A= Art.describe(percentiles=None, include= 'all', exclude=None).T"
   ]
  },
  {
   "cell_type": "markdown",
   "id": "small-preparation",
   "metadata": {},
   "source": [
    "## Notes on Art.describe\n",
    "* All catagories have the max, 5-star review.\n",
    "* Theatres and museums have a higher review average compared to Churches, Art Galleries, and monuments (Theatres have highest average review in subset).\n",
    "* Churches have the lowest average review in the subset.\n",
    "* Monuments contain the lowest review of the subset."
   ]
  },
  {
   "cell_type": "code",
   "execution_count": 9,
   "id": "clinical-atlas",
   "metadata": {},
   "outputs": [
    {
     "ename": "NameError",
     "evalue": "name 'Art' is not defined",
     "output_type": "error",
     "traceback": [
      "\u001b[0;31m---------------------------------------------------------------------------\u001b[0m",
      "\u001b[0;31mNameError\u001b[0m                                 Traceback (most recent call last)",
      "\u001b[0;32m<ipython-input-9-bf9930fccb27>\u001b[0m in \u001b[0;36m<module>\u001b[0;34m\u001b[0m\n\u001b[1;32m      5\u001b[0m \u001b[0;31m# Run and save pandas_profile for Art_and_History subset\u001b[0m\u001b[0;34m\u001b[0m\u001b[0;34m\u001b[0m\u001b[0;34m\u001b[0m\u001b[0m\n\u001b[1;32m      6\u001b[0m \u001b[0;34m\u001b[0m\u001b[0m\n\u001b[0;32m----> 7\u001b[0;31m \u001b[0mprofile\u001b[0m \u001b[0;34m=\u001b[0m \u001b[0mpdp\u001b[0m\u001b[0;34m.\u001b[0m\u001b[0mProfileReport\u001b[0m\u001b[0;34m(\u001b[0m\u001b[0mArt\u001b[0m\u001b[0;34m,\u001b[0m \u001b[0mtitle\u001b[0m \u001b[0;34m=\u001b[0m \u001b[0;34m\"Art and History Exploration Profile\"\u001b[0m\u001b[0;34m)\u001b[0m\u001b[0;34m\u001b[0m\u001b[0;34m\u001b[0m\u001b[0m\n\u001b[0m\u001b[1;32m      8\u001b[0m \u001b[0mprofile\u001b[0m\u001b[0;34m.\u001b[0m\u001b[0mto_file\u001b[0m\u001b[0;34m(\u001b[0m\u001b[0;34m\"Art_and_History.html\"\u001b[0m\u001b[0;34m)\u001b[0m\u001b[0;34m\u001b[0m\u001b[0;34m\u001b[0m\u001b[0m\n",
      "\u001b[0;31mNameError\u001b[0m: name 'Art' is not defined"
     ]
    }
   ],
   "source": [
    "# Run and save pandas_profile for Art_and_History subset \n",
    "\n",
    "profile = pdp.ProfileReport(Art, title = \"Art and History Exploration Profile\")\n",
    "profile.to_file(\"Art_and_History.html\")\n"
   ]
  },
  {
   "cell_type": "markdown",
   "id": "honey-therapy",
   "metadata": {},
   "source": [
    "## Notes on Art and History Profile Report\n",
    "* All catagories have the max, 5-star review.\n",
    "* Theatres and museums have a higher review average compared to Churches, Art Galleries, and monuments (Theatres have highest average review in subset).\n",
    "* Churches have the lowest average review in the subset.\n",
    "* Monuments contain the lowest review of the subset."
   ]
  },
  {
   "cell_type": "code",
   "execution_count": 22,
   "id": "driven-chance",
   "metadata": {},
   "outputs": [
    {
     "name": "stdout",
     "output_type": "stream",
     "text": [
      "                 count unique        top freq      mean       std   min  \\\n",
      "Google User ID    4103   4103  User 2362    1       NaN       NaN   NaN   \n",
      "Resorts         4103.0    NaN        NaN  NaN  2.425654  1.381474  0.56   \n",
      "Beaches         4103.0    NaN        NaN  NaN   2.45594  1.151642  0.59   \n",
      "Parks           4103.0    NaN        NaN  NaN  2.792562  1.293448  0.85   \n",
      "Zoos            4103.0    NaN        NaN  NaN  2.437275  1.103829  0.86   \n",
      "Dance Clubs     4103.0    NaN        NaN  NaN  1.237477  1.146805  0.51   \n",
      "Swimming Pools  4103.0    NaN        NaN  NaN  1.028606  0.941634   0.5   \n",
      "Beauty & Spas   4103.0    NaN        NaN  NaN  1.233112    1.2411   0.5   \n",
      "View Points     4103.0    NaN        NaN  NaN  1.965013  1.645791   0.5   \n",
      "Gardens         4103.0    NaN        NaN  NaN   1.69186  1.224749   0.5   \n",
      "\n",
      "                  25%   50%    75%  max  \n",
      "Google User ID    NaN   NaN    NaN  NaN  \n",
      "Resorts         1.385  2.11   2.76  5.0  \n",
      "Beaches          1.62  2.13   2.68  5.0  \n",
      "Parks            1.78  2.44   4.08  5.0  \n",
      "Zoos             1.56  2.01   3.05  5.0  \n",
      "Dance Clubs      0.69   0.8   1.18  5.0  \n",
      "Swimming Pools   0.62  0.76   0.96  5.0  \n",
      "Beauty & Spas    0.63  0.75   0.94  5.0  \n",
      "View Points      0.78  1.07  2.995  5.0  \n",
      "Gardens          0.88   1.3   1.85  5.0  \n",
      "                 count unique        top freq      mean       std   min   25%  \\\n",
      "Google User ID    4103   4103  User 2362    1       NaN       NaN   NaN   NaN   \n",
      "Beaches         4103.0    NaN        NaN  NaN   2.45594  1.151642  0.59  1.62   \n",
      "Parks           4103.0    NaN        NaN  NaN  2.792562  1.293448  0.85  1.78   \n",
      "View Points     4103.0    NaN        NaN  NaN  1.965013  1.645791   0.5  0.78   \n",
      "Gardens         4103.0    NaN        NaN  NaN   1.69186  1.224749   0.5  0.88   \n",
      "\n",
      "                 50%    75%  max  \n",
      "Google User ID   NaN    NaN  NaN  \n",
      "Beaches         2.13   2.68  5.0  \n",
      "Parks           2.44   4.08  5.0  \n",
      "View Points     1.07  2.995  5.0  \n",
      "Gardens          1.3   1.85  5.0  \n"
     ]
    }
   ],
   "source": [
    "## Move to Recreation\n",
    "R = Recreation.describe(percentiles=None, include= 'all', exclude=None).T\n",
    "print(R)\n",
    "O = Outdoors.describe(percentiles=None, include= 'all', exclude=None).T\n",
    "print(O)"
   ]
  },
  {
   "cell_type": "code",
   "execution_count": 6,
   "id": "laughing-bridal",
   "metadata": {},
   "outputs": [
    {
     "data": {
      "application/vnd.jupyter.widget-view+json": {
       "model_id": "8fd1a31cbce54c858c065b0125c0fe67",
       "version_major": 2,
       "version_minor": 0
      },
      "text/plain": [
       "Summarize dataset:   0%|          | 0/24 [00:00<?, ?it/s]"
      ]
     },
     "metadata": {},
     "output_type": "display_data"
    },
    {
     "data": {
      "application/vnd.jupyter.widget-view+json": {
       "model_id": "c8164ea7dfa8485aa2414a310c196b63",
       "version_major": 2,
       "version_minor": 0
      },
      "text/plain": [
       "Generate report structure:   0%|          | 0/1 [00:00<?, ?it/s]"
      ]
     },
     "metadata": {},
     "output_type": "display_data"
    },
    {
     "data": {
      "application/vnd.jupyter.widget-view+json": {
       "model_id": "5ae80d7126ed45999dcd7abd72e27bc1",
       "version_major": 2,
       "version_minor": 0
      },
      "text/plain": [
       "Render HTML:   0%|          | 0/1 [00:00<?, ?it/s]"
      ]
     },
     "metadata": {},
     "output_type": "display_data"
    },
    {
     "data": {
      "application/vnd.jupyter.widget-view+json": {
       "model_id": "a560c78fa6fa4434adde322dafdf404e",
       "version_major": 2,
       "version_minor": 0
      },
      "text/plain": [
       "Export report to file:   0%|          | 0/1 [00:00<?, ?it/s]"
      ]
     },
     "metadata": {},
     "output_type": "display_data"
    },
    {
     "data": {
      "application/vnd.jupyter.widget-view+json": {
       "model_id": "c46a73d3bb544f548fd7df167285cf56",
       "version_major": 2,
       "version_minor": 0
      },
      "text/plain": [
       "Summarize dataset:   0%|          | 0/19 [00:00<?, ?it/s]"
      ]
     },
     "metadata": {},
     "output_type": "display_data"
    },
    {
     "data": {
      "application/vnd.jupyter.widget-view+json": {
       "model_id": "d8e1d771c11f450f9354c4c744347267",
       "version_major": 2,
       "version_minor": 0
      },
      "text/plain": [
       "Generate report structure:   0%|          | 0/1 [00:00<?, ?it/s]"
      ]
     },
     "metadata": {},
     "output_type": "display_data"
    },
    {
     "data": {
      "application/vnd.jupyter.widget-view+json": {
       "model_id": "e850e85f63d04307b9ac2bb4ea9fa3b9",
       "version_major": 2,
       "version_minor": 0
      },
      "text/plain": [
       "Render HTML:   0%|          | 0/1 [00:00<?, ?it/s]"
      ]
     },
     "metadata": {},
     "output_type": "display_data"
    },
    {
     "data": {
      "application/vnd.jupyter.widget-view+json": {
       "model_id": "7890abb488f24d73be9b7a03e44ff3c0",
       "version_major": 2,
       "version_minor": 0
      },
      "text/plain": [
       "Export report to file:   0%|          | 0/1 [00:00<?, ?it/s]"
      ]
     },
     "metadata": {},
     "output_type": "display_data"
    }
   ],
   "source": [
    "import pandas_profiling as pdp\n",
    "profileR = pdp.ProfileReport(Recreation, title = \"Recreation Exploration Profile\")\n",
    "profileR.to_file(\"Recreation.html\")\n",
    "\n",
    "profileO = pdp.ProfileReport(Outdoors, title = \"Outdoor Recreation Exploration Profile\")\n",
    "profileO.to_file(\"Outdoor_Recreation.html\")"
   ]
  },
  {
   "cell_type": "code",
   "execution_count": null,
   "id": "prescription-resident",
   "metadata": {},
   "outputs": [],
   "source": []
  }
 ],
 "metadata": {
  "kernelspec": {
   "display_name": "Python 3",
   "language": "python",
   "name": "python3"
  },
  "language_info": {
   "codemirror_mode": {
    "name": "ipython",
    "version": 3
   },
   "file_extension": ".py",
   "mimetype": "text/x-python",
   "name": "python",
   "nbconvert_exporter": "python",
   "pygments_lexer": "ipython3",
   "version": "3.8.5"
  }
 },
 "nbformat": 4,
 "nbformat_minor": 5
}
