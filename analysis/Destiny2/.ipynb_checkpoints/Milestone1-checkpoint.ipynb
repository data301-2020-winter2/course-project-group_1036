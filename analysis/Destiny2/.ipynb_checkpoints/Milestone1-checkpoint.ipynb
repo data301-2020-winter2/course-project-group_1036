{
 "cells": [
  {
   "cell_type": "code",
   "execution_count": 1,
   "metadata": {},
   "outputs": [],
   "source": [
    "import pandas as pd"
   ]
  },
  {
   "cell_type": "code",
   "execution_count": 5,
   "metadata": {},
   "outputs": [],
   "source": [
    "dfRawData = pd.read_csv(\"data/raw/google_review_ratings.csv\", header = 'infer')"
   ]
  },
  {
   "cell_type": "code",
   "execution_count": 6,
   "metadata": {},
   "outputs": [
    {
     "name": "stdout",
     "output_type": "stream",
     "text": [
      "           User  Category 1  Category 2  Category 3  Category 4  Category 5  \\\n",
      "0        User 1        0.00        0.00        3.63        3.65        5.00   \n",
      "1        User 2        0.00        0.00        3.63        3.65        5.00   \n",
      "2        User 3        0.00        0.00        3.63        3.63        5.00   \n",
      "3        User 4        0.00        0.50        3.63        3.63        5.00   \n",
      "4        User 5        0.00        0.00        3.63        3.63        5.00   \n",
      "...         ...         ...         ...         ...         ...         ...   \n",
      "5451  User 5452        0.91        5.00        4.00        2.79        2.77   \n",
      "5452  User 5453        0.93        5.00        4.02        2.79        2.78   \n",
      "5453  User 5454        0.94        5.00        4.03        2.80        2.78   \n",
      "5454  User 5455        0.95        4.05        4.05        2.81        2.79   \n",
      "5455  User 5456        0.95        4.07        5.00        2.82        2.80   \n",
      "\n",
      "      Category 6  Category 7  Category 8  Category 9  ...  Category 15  \\\n",
      "0           2.92        5.00        2.35        2.33  ...         1.74   \n",
      "1           2.92        5.00        2.64        2.33  ...         1.74   \n",
      "2           2.92        5.00        2.64        2.33  ...         1.74   \n",
      "3           2.92        5.00        2.35        2.33  ...         1.74   \n",
      "4           2.92        5.00        2.64        2.33  ...         1.74   \n",
      "...          ...         ...         ...         ...  ...          ...   \n",
      "5451        2.57        2.43        1.09        1.77  ...         5.00   \n",
      "5452        2.57        1.77        1.07        1.76  ...         0.89   \n",
      "5453        2.57        1.75        1.05        1.75  ...         0.87   \n",
      "5454        2.44        1.76        1.03        1.74  ...         5.00   \n",
      "5455        2.57        2.42        1.02        1.74  ...         0.85   \n",
      "\n",
      "      Category 16  Category 17  Category 18  Category 19  Category 20  \\\n",
      "0            0.59         0.50         0.00         0.50         0.00   \n",
      "1            0.59         0.50         0.00         0.50         0.00   \n",
      "2            0.59         0.50         0.00         0.50         0.00   \n",
      "3            0.59         0.50         0.00         0.50         0.00   \n",
      "4            0.59         0.50         0.00         0.50         0.00   \n",
      "...           ...          ...          ...          ...          ...   \n",
      "5451         0.66         0.65         0.66         0.69         5.00   \n",
      "5452         0.65         0.64         0.65         1.59         1.62   \n",
      "5453         0.65         0.63         0.64         0.74         5.00   \n",
      "5454         0.64         0.63         0.64         0.75         5.00   \n",
      "5455         0.64         0.62         0.63         0.78         5.00   \n",
      "\n",
      "      Category 21  Category 22  Category 23  Category 24  \n",
      "0            0.00          0.0          0.0         0.00  \n",
      "1            0.00          0.0          0.0         0.00  \n",
      "2            0.00          0.0          0.0         0.00  \n",
      "3            0.00          0.0          0.0         0.00  \n",
      "4            0.00          0.0          0.0         0.00  \n",
      "...           ...          ...          ...          ...  \n",
      "5451         1.05          5.0          5.0         1.56  \n",
      "5452         1.06          5.0          5.0         1.09  \n",
      "5453         1.07          5.0          5.0         1.11  \n",
      "5454         1.08          5.0          5.0         1.12  \n",
      "5455         1.08          5.0          5.0         1.17  \n",
      "\n",
      "[5456 rows x 25 columns]\n"
     ]
    }
   ],
   "source": [
    "print(dfRawData)"
   ]
  },
  {
   "cell_type": "code",
   "execution_count": null,
   "metadata": {},
   "outputs": [],
   "source": []
  }
 ],
 "metadata": {
  "kernelspec": {
   "display_name": "Python 3",
   "language": "python",
   "name": "python3"
  },
  "language_info": {
   "codemirror_mode": {
    "name": "ipython",
    "version": 3
   },
   "file_extension": ".py",
   "mimetype": "text/x-python",
   "name": "python",
   "nbconvert_exporter": "python",
   "pygments_lexer": "ipython3",
   "version": "3.8.5"
  }
 },
 "nbformat": 4,
 "nbformat_minor": 4
}
