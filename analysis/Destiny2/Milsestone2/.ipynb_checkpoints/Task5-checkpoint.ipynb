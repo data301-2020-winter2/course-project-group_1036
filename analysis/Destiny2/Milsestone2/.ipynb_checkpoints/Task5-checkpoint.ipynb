{
 "cells": [
  {
   "cell_type": "markdown",
   "id": "wanted-forge",
   "metadata": {},
   "source": [
    "# Task 5 Analysis "
   ]
  },
  {
   "cell_type": "code",
   "execution_count": null,
   "id": "mental-transcription",
   "metadata": {},
   "outputs": [],
   "source": [
    "import pandas as pd\n",
    "import numpy as np\n",
    "import seaborn as sns\n",
    "from matplotlib import pyplot as plt\n",
    "import pandas_profiling as pdp\n",
    "import sys\n",
    "sys.path.append('../../Scripts')\n",
    "from MS2_CleanRawData import *\n",
    "# Emma Path '/Users/emmarutledge/Desktop/DATA301/course-project-group_1036/data/raw/google_review_ratings.csv'\n",
    "Amenities = load_clean_Ammenities('../../../data/raw/google_review_ratings.csv')\n",
    "Art_and_History = load_clean_Art_and_History('../../../data/raw/google_review_ratings.csv')\n",
    "Food_and_Beverage = load_clean_Food_and_Beverage('../../../data/raw/google_review_ratings.csv')\n",
    "Recreation, Outdoors = load_clean_Recreation('../../../data/raw/google_review_ratings.csv'"
   ]
  },
  {
   "cell_type": "markdown",
   "id": "unlike-respondent",
   "metadata": {},
   "source": [
    "## Compare Ratings Distribution across Food and Beverage Catagories"
   ]
  },
  {
   "cell_type": "code",
   "execution_count": null,
   "id": "protective-range",
   "metadata": {},
   "outputs": [],
   "source": [
    "sns.set_style(\"white\")\n",
    "sns.displot(data=Food_and_Beverage,\n",
    "              x=Food_and_Beverage['Restaurants'],\n",
    "             kind='kde')\n",
    "sns.set(font_scale=1.2)\n",
    "plt.title(\"Density of Ratings for European Resturaunts\") \n",
    "sns.despine()"
   ]
  },
  {
   "cell_type": "code",
   "execution_count": null,
   "id": "permanent-specific",
   "metadata": {},
   "outputs": [],
   "source": [
    "sns.set_style(\"white\")\n",
    "sns.displot(data=Food_and_Beverage,\n",
    "              x=Food_and_Beverage['Pubs & Bars'],\n",
    "             kind='kde')"
   ]
  },
  {
   "cell_type": "code",
   "execution_count": null,
   "id": "included-injection",
   "metadata": {},
   "outputs": [],
   "source": [
    "sns.set_style(\"white\")\n",
    "sns.displot(data=Food_and_Beverage,\n",
    "              x=Food_and_Beverage['Burger & Pizza Shops'],\n",
    "             kind='kde')"
   ]
  },
  {
   "cell_type": "code",
   "execution_count": null,
   "id": "stuffed-enclosure",
   "metadata": {},
   "outputs": [],
   "source": [
    "sns.set_style(\"white\")\n",
    "sns.displot(data=Food_and_Beverage,\n",
    "              x=Food_and_Beverage['Juice Bars'],\n",
    "             kind='kde')"
   ]
  },
  {
   "cell_type": "code",
   "execution_count": null,
   "id": "contemporary-thomson",
   "metadata": {},
   "outputs": [],
   "source": [
    "sns.set_style(\"white\")\n",
    "sns.displot(data=Food_and_Beverage,\n",
    "              x=Food_and_Beverage['Bakeries'],\n",
    "             kind='kde')"
   ]
  },
  {
   "cell_type": "code",
   "execution_count": null,
   "id": "standard-asian",
   "metadata": {},
   "outputs": [],
   "source": [
    "sns.set_style(\"white\")\n",
    "sns.displot(data=Food_and_Beverage,\n",
    "              x=Food_and_Beverage['Cafes'],\n",
    "             kind='kde')"
   ]
  },
  {
   "cell_type": "markdown",
   "id": "strategic-package",
   "metadata": {},
   "source": [
    "The distribution of resturaunt ratings shows us that this catagory recieves a greater number of positive reviews (>4) than any other catagory. Furthermore, cafes and bakeries recieve very little postitve reviews. This supports the discussion above."
   ]
  }
 ],
 "metadata": {
  "kernelspec": {
   "display_name": "Python 3",
   "language": "python",
   "name": "python3"
  },
  "language_info": {
   "codemirror_mode": {
    "name": "ipython",
    "version": 3
   },
   "file_extension": ".py",
   "mimetype": "text/x-python",
   "name": "python",
   "nbconvert_exporter": "python",
   "pygments_lexer": "ipython3",
   "version": "3.8.5"
  }
 },
 "nbformat": 4,
 "nbformat_minor": 5
}
