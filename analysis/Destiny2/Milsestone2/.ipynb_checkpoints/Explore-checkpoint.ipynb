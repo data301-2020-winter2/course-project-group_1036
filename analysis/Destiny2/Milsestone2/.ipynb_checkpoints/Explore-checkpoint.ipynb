{
 "cells": [
  {
   "cell_type": "code",
   "execution_count": 20,
   "id": "julian-minute",
   "metadata": {},
   "outputs": [
    {
     "ename": "ModuleNotFoundError",
     "evalue": "No module named 'Scripts'",
     "output_type": "error",
     "traceback": [
      "\u001b[0;31m---------------------------------------------------------------------------\u001b[0m",
      "\u001b[0;31mModuleNotFoundError\u001b[0m                       Traceback (most recent call last)",
      "\u001b[0;32m<ipython-input-20-f6ce0c33b23e>\u001b[0m in \u001b[0;36m<module>\u001b[0;34m\u001b[0m\n\u001b[0;32m----> 1\u001b[0;31m \u001b[0;32mfrom\u001b[0m \u001b[0mScripts\u001b[0m\u001b[0;34m.\u001b[0m\u001b[0mMS2_CleanRawData\u001b[0m \u001b[0;32mimport\u001b[0m \u001b[0mload_clean_Recreation\u001b[0m\u001b[0;34m\u001b[0m\u001b[0;34m\u001b[0m\u001b[0m\n\u001b[0m",
      "\u001b[0;31mModuleNotFoundError\u001b[0m: No module named 'Scripts'"
     ]
    }
   ],
   "source": [
    "from Scripts.function import load_process\n",
    "import pandas as pd\n",
    "import numpy as np\n",
    "import seaborn as sns\n",
    "from matplotlib import pyplot as plt\n",
    "\n",
    "from Scripts.MS2_CleanRawData import load_clean_Recreation"
   ]
  },
  {
   "cell_type": "code",
   "execution_count": 17,
   "id": "unavailable-transcription",
   "metadata": {},
   "outputs": [
    {
     "ename": "NameError",
     "evalue": "name 'Recreation' is not defined",
     "output_type": "error",
     "traceback": [
      "\u001b[0;31m---------------------------------------------------------------------------\u001b[0m",
      "\u001b[0;31mNameError\u001b[0m                                 Traceback (most recent call last)",
      "\u001b[0;32m<ipython-input-17-d998b0b0e0f1>\u001b[0m in \u001b[0;36m<module>\u001b[0;34m\u001b[0m\n\u001b[0;32m----> 1\u001b[0;31m \u001b[0mprint\u001b[0m\u001b[0;34m(\u001b[0m\u001b[0mRecreation\u001b[0m\u001b[0;34m)\u001b[0m\u001b[0;34m\u001b[0m\u001b[0;34m\u001b[0m\u001b[0m\n\u001b[0m",
      "\u001b[0;31mNameError\u001b[0m: name 'Recreation' is not defined"
     ]
    }
   ],
   "source": [
    "print(Recreation)"
   ]
  },
  {
   "cell_type": "code",
   "execution_count": 18,
   "id": "noted-wisdom",
   "metadata": {},
   "outputs": [
    {
     "name": "stdout",
     "output_type": "stream",
     "text": [
      "     Google User ID  Beaches  Parks  View Points  Gardens\n",
      "68          User 69     0.82   0.85         0.73     0.73\n",
      "69          User 70     0.83   5.00         0.75     0.74\n",
      "70          User 71     0.84   0.86         0.76     0.77\n",
      "71          User 72     0.85   0.88         0.78     0.80\n",
      "72          User 73     0.87   0.90         5.00     0.88\n",
      "...             ...      ...    ...          ...      ...\n",
      "5451      User 5452     4.00   2.79         5.00     1.56\n",
      "5452      User 5453     4.02   2.79         5.00     1.09\n",
      "5453      User 5454     4.03   2.80         5.00     1.11\n",
      "5454      User 5455     4.05   2.81         5.00     1.12\n",
      "5455      User 5456     5.00   2.82         5.00     1.17\n",
      "\n",
      "[4103 rows x 5 columns]\n"
     ]
    }
   ],
   "source": [
    "print(Outdoors)"
   ]
  },
  {
   "cell_type": "code",
   "execution_count": 20,
   "id": "stuck-bristol",
   "metadata": {},
   "outputs": [
    {
     "name": "stdout",
     "output_type": "stream",
     "text": [
      "     Google User ID  Churches  Theatres  Museums  Art Galleries  Monuments\n",
      "39          User 40      0.53      5.00     2.95           0.58       0.50\n",
      "40          User 41      0.54      5.00     2.95           1.62       0.51\n",
      "41          User 42      0.54      5.00     2.95           1.61       0.51\n",
      "42          User 43      0.55      5.00     2.95           1.60       0.52\n",
      "43          User 44      0.56      3.76     2.95           1.59       0.53\n",
      "...             ...       ...       ...      ...            ...        ...\n",
      "5451      User 5452      0.91      2.77     2.57           5.00       5.00\n",
      "5452      User 5453      0.93      2.78     2.57           0.89       5.00\n",
      "5453      User 5454      0.94      2.78     2.57           0.87       5.00\n",
      "5454      User 5455      0.95      2.79     2.44           5.00       5.00\n",
      "5455      User 5456      0.95      2.80     2.57           0.85       5.00\n",
      "\n",
      "[5150 rows x 6 columns]\n"
     ]
    }
   ],
   "source": [
    "print(Art)"
   ]
  },
  {
   "cell_type": "code",
   "execution_count": 21,
   "id": "former-personal",
   "metadata": {},
   "outputs": [
    {
     "name": "stdout",
     "output_type": "stream",
     "text": [
      "                 count unique        top freq      mean       std   min   25%  \\\n",
      "Google User ID    5150   5150  User 1930    1       NaN       NaN   NaN   NaN   \n",
      "Churches        5150.0    NaN        NaN  NaN  1.524897  0.786712  0.53  0.98   \n",
      "Theatres        5150.0    NaN        NaN  NaN  3.024621  1.327539  1.12  1.86   \n",
      "Museums         5150.0    NaN        NaN  NaN  2.956511  1.276699  1.11  1.85   \n",
      "Art Galleries   5150.0    NaN        NaN  NaN  2.187819  1.696119   0.5  0.87   \n",
      "Monuments       5150.0    NaN        NaN  NaN  1.621635  1.300531  0.26  0.84   \n",
      "\n",
      "                  50%     75%  max  \n",
      "Google User ID    NaN     NaN  NaN  \n",
      "Churches        1.355    1.88  5.0  \n",
      "Theatres          2.7  4.4275  5.0  \n",
      "Museums          2.74    4.14  5.0  \n",
      "Art Galleries    1.33  3.6975  5.0  \n",
      "Monuments         1.1  1.6575  5.0  \n"
     ]
    }
   ],
   "source": [
    " ## Start with Art and History \n",
    "A = Art.describe(percentiles=None, include= 'all', exclude=None).T\n",
    "print(A)"
   ]
  },
  {
   "cell_type": "code",
   "execution_count": 22,
   "id": "individual-shock",
   "metadata": {},
   "outputs": [
    {
     "data": {
      "application/vnd.jupyter.widget-view+json": {
       "model_id": "3f02f7df578c49e5b76369e2f94e126b",
       "version_major": 2,
       "version_minor": 0
      },
      "text/plain": [
       "Summarize dataset:   0%|          | 0/20 [00:00<?, ?it/s]"
      ]
     },
     "metadata": {},
     "output_type": "display_data"
    },
    {
     "data": {
      "application/vnd.jupyter.widget-view+json": {
       "model_id": "66d834c6c2ee4e9790a821c1a3ad658c",
       "version_major": 2,
       "version_minor": 0
      },
      "text/plain": [
       "Generate report structure:   0%|          | 0/1 [00:00<?, ?it/s]"
      ]
     },
     "metadata": {},
     "output_type": "display_data"
    },
    {
     "data": {
      "application/vnd.jupyter.widget-view+json": {
       "model_id": "f7b3a5ac822b4b1ca3302f5fa7918e97",
       "version_major": 2,
       "version_minor": 0
      },
      "text/plain": [
       "Render HTML:   0%|          | 0/1 [00:00<?, ?it/s]"
      ]
     },
     "metadata": {},
     "output_type": "display_data"
    },
    {
     "data": {
      "application/vnd.jupyter.widget-view+json": {
       "model_id": "c81da6ade8e94627ae34c06d84a2376d",
       "version_major": 2,
       "version_minor": 0
      },
      "text/plain": [
       "Export report to file:   0%|          | 0/1 [00:00<?, ?it/s]"
      ]
     },
     "metadata": {},
     "output_type": "display_data"
    }
   ],
   "source": [
    "import pandas_profiling as pdp\n",
    "profile = pdp.ProfileReport(Art, title = \"Art and History Exploration Profile\")\n",
    "profile.to_file(\"Art_and_History.html\")"
   ]
  },
  {
   "cell_type": "code",
   "execution_count": null,
   "id": "wrapped-avatar",
   "metadata": {},
   "outputs": [],
   "source": []
  }
 ],
 "metadata": {
  "kernelspec": {
   "display_name": "Python 3",
   "language": "python",
   "name": "python3"
  },
  "language_info": {
   "codemirror_mode": {
    "name": "ipython",
    "version": 3
   },
   "file_extension": ".py",
   "mimetype": "text/x-python",
   "name": "python",
   "nbconvert_exporter": "python",
   "pygments_lexer": "ipython3",
   "version": "3.8.5"
  }
 },
 "nbformat": 4,
 "nbformat_minor": 5
}
