{
 "cells": [
  {
   "cell_type": "markdown",
   "id": "appropriate-underground",
   "metadata": {},
   "source": [
    "# Task 4 - EDA "
   ]
  },
  {
   "cell_type": "code",
   "execution_count": 14,
   "id": "formal-guarantee",
   "metadata": {},
   "outputs": [],
   "source": [
    "import pandas as pd\n",
    "import numpy as np\n",
    "import seaborn as sns\n",
    "from matplotlib import pyplot as plt\n",
    "import pandas_profiling as pdp\n",
    "import sys\n",
    "sys.path.append('../../Scripts')\n",
    "from MS2_CleanRawData import *"
   ]
  },
  {
   "cell_type": "markdown",
   "id": "informative-garden",
   "metadata": {},
   "source": [
    "## *Amenities*"
   ]
  },
  {
   "cell_type": "code",
   "execution_count": 15,
   "id": "demonstrated-niagara",
   "metadata": {},
   "outputs": [],
   "source": [
    "AmenitiesData = load_clean_Ammenities(\"/Users/emmarutledge/Desktop/DATA301/course-project-group_1036/data/raw/google_review_ratings.csv\")"
   ]
  },
  {
   "cell_type": "code",
   "execution_count": 29,
   "id": "offshore-madrid",
   "metadata": {},
   "outputs": [
    {
     "data": {
      "text/html": [
       "<div>\n",
       "<style scoped>\n",
       "    .dataframe tbody tr th:only-of-type {\n",
       "        vertical-align: middle;\n",
       "    }\n",
       "\n",
       "    .dataframe tbody tr th {\n",
       "        vertical-align: top;\n",
       "    }\n",
       "\n",
       "    .dataframe thead th {\n",
       "        text-align: right;\n",
       "    }\n",
       "</style>\n",
       "<table border=\"1\" class=\"dataframe\">\n",
       "  <thead>\n",
       "    <tr style=\"text-align: right;\">\n",
       "      <th></th>\n",
       "      <th>Churches</th>\n",
       "      <th>Parks</th>\n",
       "      <th>Malls</th>\n",
       "      <th>Local Services</th>\n",
       "      <th>Hotels &amp; Lodgings</th>\n",
       "      <th>Gyms</th>\n",
       "    </tr>\n",
       "  </thead>\n",
       "  <tbody>\n",
       "    <tr>\n",
       "      <th>count</th>\n",
       "      <td>4285.000000</td>\n",
       "      <td>4285.000000</td>\n",
       "      <td>4285.000000</td>\n",
       "      <td>4285.000000</td>\n",
       "      <td>4285.000000</td>\n",
       "      <td>4285.000000</td>\n",
       "    </tr>\n",
       "    <tr>\n",
       "      <th>mean</th>\n",
       "      <td>1.541881</td>\n",
       "      <td>2.796618</td>\n",
       "      <td>3.314854</td>\n",
       "      <td>2.465097</td>\n",
       "      <td>2.126362</td>\n",
       "      <td>0.999344</td>\n",
       "    </tr>\n",
       "    <tr>\n",
       "      <th>std</th>\n",
       "      <td>0.854111</td>\n",
       "      <td>1.317547</td>\n",
       "      <td>1.442907</td>\n",
       "      <td>1.329559</td>\n",
       "      <td>1.439211</td>\n",
       "      <td>0.941138</td>\n",
       "    </tr>\n",
       "    <tr>\n",
       "      <th>min</th>\n",
       "      <td>0.500000</td>\n",
       "      <td>0.830000</td>\n",
       "      <td>1.120000</td>\n",
       "      <td>0.780000</td>\n",
       "      <td>0.770000</td>\n",
       "      <td>0.500000</td>\n",
       "    </tr>\n",
       "    <tr>\n",
       "      <th>25%</th>\n",
       "      <td>0.910000</td>\n",
       "      <td>1.740000</td>\n",
       "      <td>1.900000</td>\n",
       "      <td>1.550000</td>\n",
       "      <td>1.100000</td>\n",
       "      <td>0.600000</td>\n",
       "    </tr>\n",
       "    <tr>\n",
       "      <th>50%</th>\n",
       "      <td>1.320000</td>\n",
       "      <td>2.440000</td>\n",
       "      <td>3.220000</td>\n",
       "      <td>1.990000</td>\n",
       "      <td>1.600000</td>\n",
       "      <td>0.740000</td>\n",
       "    </tr>\n",
       "    <tr>\n",
       "      <th>75%</th>\n",
       "      <td>2.030000</td>\n",
       "      <td>4.120000</td>\n",
       "      <td>5.000000</td>\n",
       "      <td>2.890000</td>\n",
       "      <td>2.390000</td>\n",
       "      <td>0.880000</td>\n",
       "    </tr>\n",
       "    <tr>\n",
       "      <th>max</th>\n",
       "      <td>5.000000</td>\n",
       "      <td>5.000000</td>\n",
       "      <td>5.000000</td>\n",
       "      <td>5.000000</td>\n",
       "      <td>5.000000</td>\n",
       "      <td>5.000000</td>\n",
       "    </tr>\n",
       "  </tbody>\n",
       "</table>\n",
       "</div>"
      ],
      "text/plain": [
       "          Churches        Parks        Malls  Local Services  \\\n",
       "count  4285.000000  4285.000000  4285.000000     4285.000000   \n",
       "mean      1.541881     2.796618     3.314854        2.465097   \n",
       "std       0.854111     1.317547     1.442907        1.329559   \n",
       "min       0.500000     0.830000     1.120000        0.780000   \n",
       "25%       0.910000     1.740000     1.900000        1.550000   \n",
       "50%       1.320000     2.440000     3.220000        1.990000   \n",
       "75%       2.030000     4.120000     5.000000        2.890000   \n",
       "max       5.000000     5.000000     5.000000        5.000000   \n",
       "\n",
       "       Hotels & Lodgings         Gyms  \n",
       "count        4285.000000  4285.000000  \n",
       "mean            2.126362     0.999344  \n",
       "std             1.439211     0.941138  \n",
       "min             0.770000     0.500000  \n",
       "25%             1.100000     0.600000  \n",
       "50%             1.600000     0.740000  \n",
       "75%             2.390000     0.880000  \n",
       "max             5.000000     5.000000  "
      ]
     },
     "execution_count": 29,
     "metadata": {},
     "output_type": "execute_result"
    }
   ],
   "source": [
    "AmenitiesData.describe()"
   ]
  },
  {
   "cell_type": "markdown",
   "id": "chinese-davis",
   "metadata": {},
   "source": [
    "*This description of the Amenities Dataframe shows that malls in europe have the highest overall rating,  with a minimum rating of 1.12 stars, and a maximum rating of 5 stars. It is also shown that there were 4285 ratings recorded*"
   ]
  },
  {
   "cell_type": "markdown",
   "id": "satisfactory-auckland",
   "metadata": {},
   "source": [
    "## Box and Whisker Plot of Google Reviews Distribution for Amenities"
   ]
  },
  {
   "cell_type": "code",
   "execution_count": 17,
   "id": "friendly-nylon",
   "metadata": {},
   "outputs": [
    {
     "data": {
      "image/png": "[encoded data removed]",
      "text/plain": [
       "<Figure size 432x288 with 1 Axes>"
      ]
     },
     "metadata": {},
     "output_type": "display_data"
    }
   ],
   "source": [
    "sns.set_style(\"ticks\")\n",
    "sns.set(font_scale = 1.1)\n",
    "Box_Plot_Amenities = sns.boxplot(data = AmenitiesData, orient = \"h\", palette = \"husl\")\n",
    "plt.title(\"Box Plot of Average Google Reviews for Amenities in Europe\")\n",
    "sns.despine()"
   ]
  },
  {
   "cell_type": "markdown",
   "id": "facial-contemporary",
   "metadata": {},
   "source": [
    "*This plot provides a visual of the distribution of each amenity category. It is clear that malls have the leading reviews, and gyms have the worst. Based on this plot, you could gain a general idea of what places are worth visiting in Europe.*"
   ]
  },
  {
   "cell_type": "code",
   "execution_count": 18,
   "id": "colored-steel",
   "metadata": {},
   "outputs": [
    {
     "data": {
      "text/plain": [
       "<seaborn.axisgrid.FacetGrid at 0x7f8c51459d00>"
      ]
     },
     "execution_count": 18,
     "metadata": {},
     "output_type": "execute_result"
    },
    {
     "data": {
      "image/png": "[encoded data removed]",
      "text/plain": [
       "<Figure size 360x360 with 1 Axes>"
      ]
     },
     "metadata": {},
     "output_type": "display_data"
    }
   ],
   "source": [
    "sns.displot(data=AmenitiesData,\n",
    "              x='Gyms',\n",
    "             kind='kde')"
   ]
  },
  {
   "cell_type": "markdown",
   "id": "cultural-correlation",
   "metadata": {},
   "source": [
    "*This line graph is displaying the most poorly rated amenity in europe; the gyms. There is a prominent spike showing the most common review being less than 1/5 stars.*"
   ]
  },
  {
   "cell_type": "markdown",
   "id": "universal-gibraltar",
   "metadata": {},
   "source": [
    "## *Food*"
   ]
  },
  {
   "cell_type": "code",
   "execution_count": 19,
   "id": "swiss-grace",
   "metadata": {},
   "outputs": [
    {
     "data": {
      "text/html": [
       "<div>\n",
       "<style scoped>\n",
       "    .dataframe tbody tr th:only-of-type {\n",
       "        vertical-align: middle;\n",
       "    }\n",
       "\n",
       "    .dataframe tbody tr th {\n",
       "        vertical-align: top;\n",
       "    }\n",
       "\n",
       "    .dataframe thead th {\n",
       "        text-align: right;\n",
       "    }\n",
       "</style>\n",
       "<table border=\"1\" class=\"dataframe\">\n",
       "  <thead>\n",
       "    <tr style=\"text-align: right;\">\n",
       "      <th></th>\n",
       "      <th>Google User ID</th>\n",
       "      <th>Restaurants</th>\n",
       "      <th>Pubs &amp; Bars</th>\n",
       "      <th>Burger &amp; Pizza Shops</th>\n",
       "      <th>Juice Bars</th>\n",
       "      <th>Bakeries</th>\n",
       "      <th>Cafes</th>\n",
       "    </tr>\n",
       "  </thead>\n",
       "  <tbody>\n",
       "    <tr>\n",
       "      <th>65</th>\n",
       "      <td>User 66</td>\n",
       "      <td>2.84</td>\n",
       "      <td>2.41</td>\n",
       "      <td>1.37</td>\n",
       "      <td>1.34</td>\n",
       "      <td>0.50</td>\n",
       "      <td>0.52</td>\n",
       "    </tr>\n",
       "    <tr>\n",
       "      <th>66</th>\n",
       "      <td>User 67</td>\n",
       "      <td>2.84</td>\n",
       "      <td>2.42</td>\n",
       "      <td>1.39</td>\n",
       "      <td>1.33</td>\n",
       "      <td>0.50</td>\n",
       "      <td>0.51</td>\n",
       "    </tr>\n",
       "    <tr>\n",
       "      <th>67</th>\n",
       "      <td>User 68</td>\n",
       "      <td>2.83</td>\n",
       "      <td>2.41</td>\n",
       "      <td>1.46</td>\n",
       "      <td>1.32</td>\n",
       "      <td>0.50</td>\n",
       "      <td>0.51</td>\n",
       "    </tr>\n",
       "    <tr>\n",
       "      <th>68</th>\n",
       "      <td>User 69</td>\n",
       "      <td>2.82</td>\n",
       "      <td>2.83</td>\n",
       "      <td>1.46</td>\n",
       "      <td>1.31</td>\n",
       "      <td>0.53</td>\n",
       "      <td>0.75</td>\n",
       "    </tr>\n",
       "    <tr>\n",
       "      <th>69</th>\n",
       "      <td>User 70</td>\n",
       "      <td>2.82</td>\n",
       "      <td>2.41</td>\n",
       "      <td>1.46</td>\n",
       "      <td>1.30</td>\n",
       "      <td>0.52</td>\n",
       "      <td>0.52</td>\n",
       "    </tr>\n",
       "  </tbody>\n",
       "</table>\n",
       "</div>"
      ],
      "text/plain": [
       "   Google User ID  Restaurants  Pubs & Bars  Burger & Pizza Shops  Juice Bars  \\\n",
       "65        User 66         2.84         2.41                  1.37        1.34   \n",
       "66        User 67         2.84         2.42                  1.39        1.33   \n",
       "67        User 68         2.83         2.41                  1.46        1.32   \n",
       "68        User 69         2.82         2.83                  1.46        1.31   \n",
       "69        User 70         2.82         2.41                  1.46        1.30   \n",
       "\n",
       "    Bakeries  Cafes  \n",
       "65      0.50   0.52  \n",
       "66      0.50   0.51  \n",
       "67      0.50   0.51  \n",
       "68      0.53   0.75  \n",
       "69      0.52   0.52  "
      ]
     },
     "execution_count": 19,
     "metadata": {},
     "output_type": "execute_result"
    }
   ],
   "source": [
    "FoodData = load_clean_Food_and_Beverage('/Users/emmarutledge/Desktop/DATA301/course-project-group_1036/data/raw/google_review_ratings.csv')\n",
    "FoodData.head()"
   ]
  },
  {
   "cell_type": "code",
   "execution_count": 20,
   "id": "documented-tonight",
   "metadata": {},
   "outputs": [
    {
     "data": {
      "text/html": [
       "<div>\n",
       "<style scoped>\n",
       "    .dataframe tbody tr th:only-of-type {\n",
       "        vertical-align: middle;\n",
       "    }\n",
       "\n",
       "    .dataframe tbody tr th {\n",
       "        vertical-align: top;\n",
       "    }\n",
       "\n",
       "    .dataframe thead th {\n",
       "        text-align: right;\n",
       "    }\n",
       "</style>\n",
       "<table border=\"1\" class=\"dataframe\">\n",
       "  <thead>\n",
       "    <tr style=\"text-align: right;\">\n",
       "      <th></th>\n",
       "      <th>Restaurants</th>\n",
       "      <th>Pubs &amp; Bars</th>\n",
       "      <th>Burger &amp; Pizza Shops</th>\n",
       "      <th>Juice Bars</th>\n",
       "      <th>Bakeries</th>\n",
       "      <th>Cafes</th>\n",
       "    </tr>\n",
       "  </thead>\n",
       "  <tbody>\n",
       "    <tr>\n",
       "      <th>count</th>\n",
       "      <td>4143.000000</td>\n",
       "      <td>4143.000000</td>\n",
       "      <td>4143.000000</td>\n",
       "      <td>4143.000000</td>\n",
       "      <td>4143.000000</td>\n",
       "      <td>4143.000000</td>\n",
       "    </tr>\n",
       "    <tr>\n",
       "      <th>mean</th>\n",
       "      <td>3.054909</td>\n",
       "      <td>2.623560</td>\n",
       "      <td>2.019657</td>\n",
       "      <td>2.148252</td>\n",
       "      <td>1.170509</td>\n",
       "      <td>1.121028</td>\n",
       "    </tr>\n",
       "    <tr>\n",
       "      <th>std</th>\n",
       "      <td>1.402309</td>\n",
       "      <td>1.269768</td>\n",
       "      <td>1.218255</td>\n",
       "      <td>1.597985</td>\n",
       "      <td>1.197777</td>\n",
       "      <td>0.944740</td>\n",
       "    </tr>\n",
       "    <tr>\n",
       "      <th>min</th>\n",
       "      <td>0.840000</td>\n",
       "      <td>0.810000</td>\n",
       "      <td>0.780000</td>\n",
       "      <td>0.760000</td>\n",
       "      <td>0.500000</td>\n",
       "      <td>0.500000</td>\n",
       "    </tr>\n",
       "    <tr>\n",
       "      <th>25%</th>\n",
       "      <td>1.690000</td>\n",
       "      <td>1.560000</td>\n",
       "      <td>1.180000</td>\n",
       "      <td>0.980000</td>\n",
       "      <td>0.600000</td>\n",
       "      <td>0.670000</td>\n",
       "    </tr>\n",
       "    <tr>\n",
       "      <th>50%</th>\n",
       "      <td>2.780000</td>\n",
       "      <td>2.530000</td>\n",
       "      <td>1.680000</td>\n",
       "      <td>1.380000</td>\n",
       "      <td>0.750000</td>\n",
       "      <td>0.810000</td>\n",
       "    </tr>\n",
       "    <tr>\n",
       "      <th>75%</th>\n",
       "      <td>5.000000</td>\n",
       "      <td>3.160000</td>\n",
       "      <td>2.230000</td>\n",
       "      <td>2.685000</td>\n",
       "      <td>0.890000</td>\n",
       "      <td>1.060000</td>\n",
       "    </tr>\n",
       "    <tr>\n",
       "      <th>max</th>\n",
       "      <td>5.000000</td>\n",
       "      <td>5.000000</td>\n",
       "      <td>5.000000</td>\n",
       "      <td>5.000000</td>\n",
       "      <td>5.000000</td>\n",
       "      <td>5.000000</td>\n",
       "    </tr>\n",
       "  </tbody>\n",
       "</table>\n",
       "</div>"
      ],
      "text/plain": [
       "       Restaurants  Pubs & Bars  Burger & Pizza Shops   Juice Bars  \\\n",
       "count  4143.000000  4143.000000           4143.000000  4143.000000   \n",
       "mean      3.054909     2.623560              2.019657     2.148252   \n",
       "std       1.402309     1.269768              1.218255     1.597985   \n",
       "min       0.840000     0.810000              0.780000     0.760000   \n",
       "25%       1.690000     1.560000              1.180000     0.980000   \n",
       "50%       2.780000     2.530000              1.680000     1.380000   \n",
       "75%       5.000000     3.160000              2.230000     2.685000   \n",
       "max       5.000000     5.000000              5.000000     5.000000   \n",
       "\n",
       "          Bakeries        Cafes  \n",
       "count  4143.000000  4143.000000  \n",
       "mean      1.170509     1.121028  \n",
       "std       1.197777     0.944740  \n",
       "min       0.500000     0.500000  \n",
       "25%       0.600000     0.670000  \n",
       "50%       0.750000     0.810000  \n",
       "75%       0.890000     1.060000  \n",
       "max       5.000000     5.000000  "
      ]
     },
     "execution_count": 20,
     "metadata": {},
     "output_type": "execute_result"
    }
   ],
   "source": [
    "FoodData.describe()"
   ]
  },
  {
   "cell_type": "markdown",
   "id": "regular-drama",
   "metadata": {},
   "source": [
    "*Here, we can see that there are 4143 ratings of each type of facilty\n",
    "we can also see that every place has a maximum rating of 5 stars, and a minimum rating varying between 0.5, and 0.84 stars.*"
   ]
  },
  {
   "cell_type": "code",
   "execution_count": 21,
   "id": "focal-kidney",
   "metadata": {},
   "outputs": [
    {
     "data": {
      "text/plain": [
       "(3.054909485879797,\n",
       " 2.6235602220613083,\n",
       " 2.019657253198165,\n",
       " 2.1482524740526188,\n",
       " 1.1705092927830074,\n",
       " 1.1210282404055032)"
      ]
     },
     "execution_count": 21,
     "metadata": {},
     "output_type": "execute_result"
    }
   ],
   "source": [
    "MeanRestaurantRating = FoodData[\"Restaurants\"].mean()\n",
    "MeanPubBarRating = FoodData[\"Pubs & Bars\"].mean()\n",
    "MeanBurgerPizzaRating = FoodData[\"Burger & Pizza Shops\"].mean()\n",
    "MeanJuiceRating = FoodData[\"Juice Bars\"].mean()\n",
    "MeanBakeriesRating = FoodData[\"Bakeries\"].mean()\n",
    "MeanCafesRating = FoodData[\"Cafes\"].mean()\n",
    "\n",
    "MeanFoodRating = (MeanRestaurantRating, MeanPubBarRating, MeanBurgerPizzaRating, MeanJuiceRating, MeanBakeriesRating, MeanCafesRating)\n",
    "MeanFoodRating"
   ]
  },
  {
   "cell_type": "code",
   "execution_count": 22,
   "id": "regular-highlight",
   "metadata": {},
   "outputs": [
    {
     "data": {
      "text/html": [
       "<div>\n",
       "<style scoped>\n",
       "    .dataframe tbody tr th:only-of-type {\n",
       "        vertical-align: middle;\n",
       "    }\n",
       "\n",
       "    .dataframe tbody tr th {\n",
       "        vertical-align: top;\n",
       "    }\n",
       "\n",
       "    .dataframe thead th {\n",
       "        text-align: right;\n",
       "    }\n",
       "</style>\n",
       "<table border=\"1\" class=\"dataframe\">\n",
       "  <thead>\n",
       "    <tr style=\"text-align: right;\">\n",
       "      <th></th>\n",
       "      <th>Places</th>\n",
       "      <th>Mean Rating</th>\n",
       "    </tr>\n",
       "  </thead>\n",
       "  <tbody>\n",
       "    <tr>\n",
       "      <th>0</th>\n",
       "      <td>Restaurant</td>\n",
       "      <td>3.054909</td>\n",
       "    </tr>\n",
       "    <tr>\n",
       "      <th>1</th>\n",
       "      <td>Pubs &amp; Bars</td>\n",
       "      <td>2.623560</td>\n",
       "    </tr>\n",
       "    <tr>\n",
       "      <th>2</th>\n",
       "      <td>Burgers &amp; Pizza</td>\n",
       "      <td>2.019657</td>\n",
       "    </tr>\n",
       "    <tr>\n",
       "      <th>3</th>\n",
       "      <td>Juice Bars</td>\n",
       "      <td>2.148252</td>\n",
       "    </tr>\n",
       "    <tr>\n",
       "      <th>4</th>\n",
       "      <td>Bakeries</td>\n",
       "      <td>1.170509</td>\n",
       "    </tr>\n",
       "    <tr>\n",
       "      <th>5</th>\n",
       "      <td>Cafes</td>\n",
       "      <td>1.121028</td>\n",
       "    </tr>\n",
       "  </tbody>\n",
       "</table>\n",
       "</div>"
      ],
      "text/plain": [
       "            Places  Mean Rating\n",
       "0       Restaurant     3.054909\n",
       "1      Pubs & Bars     2.623560\n",
       "2  Burgers & Pizza     2.019657\n",
       "3       Juice Bars     2.148252\n",
       "4         Bakeries     1.170509\n",
       "5            Cafes     1.121028"
      ]
     },
     "execution_count": 22,
     "metadata": {},
     "output_type": "execute_result"
    }
   ],
   "source": [
    "d = {'Places': ['Restaurant', 'Pubs & Bars', 'Burgers & Pizza', 'Juice Bars', 'Bakeries', 'Cafes'],\n",
    "     'Mean Rating': [3.054909485879797,2.6235602220613083,2.019657253198165, 2.1482524740526188, 1.1705092927830074, 1.1210282404055032]}\n",
    "MeanRatingsDf = pd.DataFrame(data=d)\n",
    "MeanRatingsDf"
   ]
  },
  {
   "cell_type": "markdown",
   "id": "supposed-success",
   "metadata": {},
   "source": [
    "## Mean Ratings for Each Food and Beverage Category"
   ]
  },
  {
   "cell_type": "code",
   "execution_count": 23,
   "id": "hollow-result",
   "metadata": {},
   "outputs": [
    {
     "data": {
      "text/plain": [
       "(array([0, 1, 2, 3, 4, 5]),\n",
       " [Text(0, 0, 'Restaurant'),\n",
       "  Text(1, 0, 'Pubs & Bars'),\n",
       "  Text(2, 0, 'Burgers & Pizza'),\n",
       "  Text(3, 0, 'Juice Bars'),\n",
       "  Text(4, 0, 'Bakeries'),\n",
       "  Text(5, 0, 'Cafes')])"
      ]
     },
     "execution_count": 23,
     "metadata": {},
     "output_type": "execute_result"
    },
    {
     "data": {
      "image/png": "[encoded data removed]",
      "text/plain": [
       "<Figure size 576x360 with 1 Axes>"
      ]
     },
     "metadata": {},
     "output_type": "display_data"
    }
   ],
   "source": [
    "fig, ax = plt.subplots()\n",
    "fig.set_size_inches(8,5)\n",
    "sns.barplot(data= MeanRatingsDf,\n",
    "            x='Places',\n",
    "            y='Mean Rating')\n",
    "plt.xticks(rotation=45)"
   ]
  },
  {
   "cell_type": "markdown",
   "id": "simplified-attention",
   "metadata": {},
   "source": [
    "*This barplot shows the average rating for each type of Food and Beverage Facility. For someone who is travelling, this would give them an idea of what type place is most worth eating at. Restaurants attain the highest rating, and Cafes achieve the lowest.*"
   ]
  },
  {
   "cell_type": "code",
   "execution_count": 24,
   "id": "structural-reynolds",
   "metadata": {},
   "outputs": [],
   "source": [
    "Restaurants = FoodData['Restaurants']"
   ]
  },
  {
   "cell_type": "markdown",
   "id": "correct-watson",
   "metadata": {},
   "source": [
    "## Histogram of Restaurant Ratings Distribution"
   ]
  },
  {
   "cell_type": "code",
   "execution_count": 25,
   "id": "classified-tours",
   "metadata": {},
   "outputs": [
    {
     "data": {
      "text/plain": [
       "(array([ 104.,  912.,  377.,  298.,  711.,  311.,  106.,   45.,   90.,\n",
       "        1189.]),\n",
       " array([0.84 , 1.256, 1.672, 2.088, 2.504, 2.92 , 3.336, 3.752, 4.168,\n",
       "        4.584, 5.   ]),\n",
       " <BarContainer object of 10 artists>)"
      ]
     },
     "execution_count": 25,
     "metadata": {},
     "output_type": "execute_result"
    },
    {
     "data": {
      "image/png": "[encoded data removed]",
      "text/plain": [
       "<Figure size 432x288 with 1 Axes>"
      ]
     },
     "metadata": {},
     "output_type": "display_data"
    }
   ],
   "source": [
    "counts, bins = np.histogram(Restaurants)\n",
    "plt.hist(bins[:-1], bins, weights=counts)"
   ]
  },
  {
   "cell_type": "markdown",
   "id": "straight-binding",
   "metadata": {},
   "source": [
    "*This histogram represents the distribution of ratings for Restaurants, which is the highest rated food estabilshment based on the google reviews for Europe. This visualization breaks down the data into a way where it is easy to see that the customers either love it or hate it since the histogram peaks in a few different locations.*"
   ]
  },
  {
   "cell_type": "code",
   "execution_count": null,
   "id": "entertaining-ecology",
   "metadata": {},
   "outputs": [],
   "source": []
  },
  {
   "cell_type": "code",
   "execution_count": null,
   "id": "unlikely-military",
   "metadata": {},
   "outputs": [],
   "source": []
  }
 ],
 "metadata": {
  "kernelspec": {
   "display_name": "Python 3",
   "language": "python",
   "name": "python3"
  },
  "language_info": {
   "codemirror_mode": {
    "name": "ipython",
    "version": 3
   },
   "file_extension": ".py",
   "mimetype": "text/x-python",
   "name": "python",
   "nbconvert_exporter": "python",
   "pygments_lexer": "ipython3",
   "version": "3.8.5"
  }
 },
 "nbformat": 4,
 "nbformat_minor": 5
}
