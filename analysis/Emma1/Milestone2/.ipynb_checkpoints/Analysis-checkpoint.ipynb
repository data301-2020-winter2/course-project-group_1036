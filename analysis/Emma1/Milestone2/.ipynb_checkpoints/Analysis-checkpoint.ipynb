{
 "cells": [
  {
   "cell_type": "markdown",
   "id": "brave-radar",
   "metadata": {},
   "source": [
    "# Analysis - Task 5"
   ]
  },
  {
   "cell_type": "code",
   "execution_count": 1,
   "id": "warming-essence",
   "metadata": {},
   "outputs": [],
   "source": [
    "import pandas as pd\n",
    "import numpy as np\n",
    "import seaborn as sns\n",
    "from matplotlib import pyplot as plt\n",
    "from MS2_CleanData_1 import *"
   ]
  },
  {
   "cell_type": "markdown",
   "id": "juvenile-september",
   "metadata": {},
   "source": [
    "## Research Questions"
   ]
  },
  {
   "cell_type": "code",
   "execution_count": 4,
   "id": "banned-tolerance",
   "metadata": {},
   "outputs": [],
   "source": [
    "Amenities = load_clean_Ammenities('/Users/emmarutledge/Desktop/course-project-group_1036/data/raw/google_review_ratings.csv')"
   ]
  },
  {
   "cell_type": "code",
   "execution_count": 11,
   "id": "available-monday",
   "metadata": {},
   "outputs": [],
   "source": [
    "Art_and_History = load_clean_Art_and_History('/Users/emmarutledge/Desktop/course-project-group_1036/data/raw/google_review_ratings.csv')"
   ]
  },
  {
   "cell_type": "code",
   "execution_count": 10,
   "id": "smaller-hamburg",
   "metadata": {},
   "outputs": [],
   "source": [
    "Food_and_Beverage = load_clean_Food_and_Beverage('/Users/emmarutledge/Desktop/course-project-group_1036/data/raw/google_review_ratings.csv')"
   ]
  },
  {
   "cell_type": "code",
   "execution_count": 9,
   "id": "shaped-access",
   "metadata": {},
   "outputs": [
    {
     "ename": "UnboundLocalError",
     "evalue": "local variable 'df' referenced before assignment",
     "output_type": "error",
     "traceback": [
      "\u001b[0;31m---------------------------------------------------------------------------\u001b[0m",
      "\u001b[0;31mUnboundLocalError\u001b[0m                         Traceback (most recent call last)",
      "\u001b[0;32m<ipython-input-9-37e7586db55b>\u001b[0m in \u001b[0;36m<module>\u001b[0;34m\u001b[0m\n\u001b[0;32m----> 1\u001b[0;31m \u001b[0mRec\u001b[0m \u001b[0;34m=\u001b[0m \u001b[0mload_clean_Recreation\u001b[0m\u001b[0;34m(\u001b[0m\u001b[0;34m'/Users/emmarutledge/Desktop/course-project-group_1036/data/raw/google_review_ratings.csv'\u001b[0m\u001b[0;34m)\u001b[0m\u001b[0;34m\u001b[0m\u001b[0;34m\u001b[0m\u001b[0m\n\u001b[0m",
      "\u001b[0;32m~/Desktop/course-project-group_1036/analysis/Emma1/MS2_CleanData_1.py\u001b[0m in \u001b[0;36mload_clean_Recreation\u001b[0;34m(path)\u001b[0m\n\u001b[1;32m     87\u001b[0m                     )\n\u001b[1;32m     88\u001b[0m     \u001b[0mRecreation\u001b[0m \u001b[0;34m=\u001b[0m \u001b[0mRecreation\u001b[0m\u001b[0;34m[\u001b[0m\u001b[0;34m(\u001b[0m\u001b[0mRecreation\u001b[0m \u001b[0;34m!=\u001b[0m \u001b[0;36m0\u001b[0m\u001b[0;34m)\u001b[0m\u001b[0;34m.\u001b[0m\u001b[0mall\u001b[0m\u001b[0;34m(\u001b[0m\u001b[0;36m1\u001b[0m\u001b[0;34m)\u001b[0m\u001b[0;34m]\u001b[0m\u001b[0;34m\u001b[0m\u001b[0;34m\u001b[0m\u001b[0m\n\u001b[0;32m---> 89\u001b[0;31m     \u001b[0mdf\u001b[0m \u001b[0;34m=\u001b[0m \u001b[0mdf\u001b[0m\u001b[0;34m.\u001b[0m\u001b[0mappend\u001b[0m\u001b[0;34m(\u001b[0m\u001b[0mline\u001b[0m\u001b[0;34m,\u001b[0m \u001b[0mignore_index\u001b[0m\u001b[0;34m=\u001b[0m\u001b[0;32mFalse\u001b[0m\u001b[0;34m)\u001b[0m\u001b[0;34m\u001b[0m\u001b[0;34m\u001b[0m\u001b[0m\n\u001b[0m\u001b[1;32m     90\u001b[0m     \u001b[0mdf\u001b[0m \u001b[0;34m=\u001b[0m \u001b[0mdf\u001b[0m\u001b[0;34m.\u001b[0m\u001b[0msort_index\u001b[0m\u001b[0;34m(\u001b[0m\u001b[0;34m)\u001b[0m\u001b[0;34m.\u001b[0m\u001b[0mreset_index\u001b[0m\u001b[0;34m(\u001b[0m\u001b[0mdrop\u001b[0m\u001b[0;34m=\u001b[0m\u001b[0;32mTrue\u001b[0m\u001b[0;34m)\u001b[0m\u001b[0;34m\u001b[0m\u001b[0;34m\u001b[0m\u001b[0m\n\u001b[1;32m     91\u001b[0m     \u001b[0mdf\u001b[0m \u001b[0;34m=\u001b[0m \u001b[0mdf\u001b[0m\u001b[0;34m.\u001b[0m\u001b[0mreindex\u001b[0m\u001b[0;34m(\u001b[0m\u001b[0;34m[\u001b[0m\u001b[0;34m'Name'\u001b[0m\u001b[0;34m,\u001b[0m \u001b[0;34m'Age'\u001b[0m\u001b[0;34m]\u001b[0m\u001b[0;34m,\u001b[0m \u001b[0maxis\u001b[0m\u001b[0;34m=\u001b[0m\u001b[0;36m1\u001b[0m\u001b[0;34m)\u001b[0m\u001b[0;34m\u001b[0m\u001b[0;34m\u001b[0m\u001b[0m\n",
      "\u001b[0;31mUnboundLocalError\u001b[0m: local variable 'df' referenced before assignment"
     ]
    }
   ],
   "source": [
    "Rec = load_clean_Recreation('/Users/emmarutledge/Desktop/course-project-group_1036/data/raw/google_review_ratings.csv')"
   ]
  },
  {
   "cell_type": "markdown",
   "id": "tamil-complement",
   "metadata": {},
   "source": [
    "1. What is the typical google rating of tourist attractions across different attraction categories in Europe "
   ]
  },
  {
   "cell_type": "code",
   "execution_count": null,
   "id": "derived-billion",
   "metadata": {},
   "outputs": [],
   "source": []
  },
  {
   "cell_type": "markdown",
   "id": "functional-panama",
   "metadata": {},
   "source": [
    "2. Do users who find art and history good rate recreational activities low? (Or whatever makes sense with our data) are they the same people who rate the gyms really low?"
   ]
  },
  {
   "cell_type": "markdown",
   "id": "adapted-default",
   "metadata": {},
   "source": [
    "3. Are there categories that do really well/really bad. What are the overall best average ratings?"
   ]
  },
  {
   "cell_type": "markdown",
   "id": "minute-facility",
   "metadata": {},
   "source": [
    "* You should remain focused on your research question(s) - it is very easy to get lost down rabbit holes in data analyses projects.\n",
    "If you find that your research questions are not that interesting, or you find more interesting questions (especially after your EDA) you may revise them, or add more.\n",
    "Use the lab times, as well as our office hours (TAs and instructors), to get help and guidance on your analyses.\n",
    "You should experiment with “plenty of” data visualizations to try and visualize your dataset and answer your research questions.\n",
    "Give us a narrative/story of your explorations as you go along, in-line with your data - use the new Markdown skills you learned in Task 1! *"
   ]
  },
  {
   "cell_type": "code",
   "execution_count": null,
   "id": "standing-farming",
   "metadata": {},
   "outputs": [],
   "source": []
  }
 ],
 "metadata": {
  "kernelspec": {
   "display_name": "Python 3",
   "language": "python",
   "name": "python3"
  },
  "language_info": {
   "codemirror_mode": {
    "name": "ipython",
    "version": 3
   },
   "file_extension": ".py",
   "mimetype": "text/x-python",
   "name": "python",
   "nbconvert_exporter": "python",
   "pygments_lexer": "ipython3",
   "version": "3.8.5"
  }
 },
 "nbformat": 4,
 "nbformat_minor": 5
}
